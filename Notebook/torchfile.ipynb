{
 "cells": [
  {
   "cell_type": "code",
   "execution_count": 1,
   "metadata": {},
   "outputs": [],
   "source": [
    "#importing libaries \n",
    "import torch\n",
    "import torch.nn as nn\n",
    "import torch.optim as optim\n",
    "from sklearn.model_selection import train_test_split\n",
    "from torch.utils.data import DataLoader,TensorDataset\n",
    "from sklearn.preprocessing import LabelEncoder,StandardScaler\n",
    "import pandas as pd"
   ]
  },
  {
   "cell_type": "code",
   "execution_count": 6,
   "metadata": {},
   "outputs": [
    {
     "name": "stdout",
     "output_type": "stream",
     "text": [
      "   Age  Biomass_Fuel_Exposure  Occupational_Exposure  Family_History_COPD  \\\n",
      "0   31                      1                      1                    1   \n",
      "1   60                      1                      0                    0   \n",
      "2   33                      0                      0                    1   \n",
      "3   36                      1                      0                    0   \n",
      "4   58                      0                      0                    0   \n",
      "\n",
      "     BMI  Air_Pollution_Level  Respiratory_Infections_Childhood  \\\n",
      "0  27.56                   84                                 0   \n",
      "1  30.30                  131                                 1   \n",
      "2  28.45                  123                                 1   \n",
      "3  27.49                  253                                 0   \n",
      "4  25.49                  117                                 1   \n",
      "\n",
      "   COPD_Diagnosis  Gender_encoded  Smoking_Status_encoded  Location_encoded  \n",
      "0               0               1                     0.5                 7  \n",
      "1               0               1                     0.0                 9  \n",
      "2               0               1                     0.5                 9  \n",
      "3               1               0                     1.0                 6  \n",
      "4               0               1                     0.0                 9  \n"
     ]
    }
   ],
   "source": [
    "#reading data set \n",
    "data=pd.read_csv('../Data/Finaldata.csv')\n",
    "print(data.head())"
   ]
  },
  {
   "cell_type": "code",
   "execution_count": 7,
   "metadata": {},
   "outputs": [],
   "source": [
    "#spliting data traget and features \n",
    "X=data.drop(columns=['COPD_Diagnosis'])\n",
    "y=data['COPD_Diagnosis']"
   ]
  },
  {
   "cell_type": "code",
   "execution_count": 9,
   "metadata": {},
   "outputs": [],
   "source": [
    "#converting data to pytroch tensor \n",
    "X_tensor=torch.tensor(X.values,dtype=torch.float32)\n",
    "y_tensor=torch.tensor(y.values,dtype=torch.float32)"
   ]
  },
  {
   "cell_type": "code",
   "execution_count": 10,
   "metadata": {},
   "outputs": [],
   "source": [
    "#spliting the data into training and testing sets\n",
    "X_train, X_test, y_train, y_test=train_test_split(X_tensor, y_tensor, test_size=0.2, random_state=42)"
   ]
  },
  {
   "cell_type": "code",
   "execution_count": 12,
   "metadata": {},
   "outputs": [],
   "source": [
    "#Creating DataLoader for batching \n",
    "train_dataset=TensorDataset(X_train, y_train)\n",
    "test_dataset= TensorDataset(X_test, y_test)\n",
    "\n",
    "train_loader = DataLoader(train_dataset, batch_size=32, shuffle=True)\n",
    "test_loader=DataLoader(test_dataset, batch_size=32, shuffle=False)\n"
   ]
  },
  {
   "cell_type": "code",
   "execution_count": null,
   "metadata": {},
   "outputs": [],
   "source": [
    "from arch import CODPmodel"
   ]
  },
  {
   "cell_type": "code",
   "execution_count": 15,
   "metadata": {},
   "outputs": [],
   "source": [
    "#Instaniate The model\n",
    "input_dim = X.shape[1]\n",
    "model = CODPmodel(input_dim)\n",
    "criterion= nn.BCELoss()#binary cross entropy loss\n",
    "optimizer=optim.Adam(model.parameters(),lr=0.001)\n"
   ]
  },
  {
   "cell_type": "code",
   "execution_count": 18,
   "metadata": {},
   "outputs": [
    {
     "name": "stdout",
     "output_type": "stream",
     "text": [
      "Epoch [1/20], Loss: 0.7146\n",
      "Epoch [2/20], Loss: 0.6403\n",
      "Epoch [3/20], Loss: 0.6252\n",
      "Epoch [4/20], Loss: 0.6118\n",
      "Epoch [5/20], Loss: 0.6240\n",
      "Epoch [6/20], Loss: 0.6043\n",
      "Epoch [7/20], Loss: 0.5952\n",
      "Epoch [8/20], Loss: 0.5946\n",
      "Epoch [9/20], Loss: 0.5865\n",
      "Epoch [10/20], Loss: 0.5916\n",
      "Epoch [11/20], Loss: 0.6013\n",
      "Epoch [12/20], Loss: 0.5769\n",
      "Epoch [13/20], Loss: 0.5695\n",
      "Epoch [14/20], Loss: 0.5633\n",
      "Epoch [15/20], Loss: 0.5751\n",
      "Epoch [16/20], Loss: 0.5566\n",
      "Epoch [17/20], Loss: 0.5435\n",
      "Epoch [18/20], Loss: 0.5401\n",
      "Epoch [19/20], Loss: 0.5225\n",
      "Epoch [20/20], Loss: 0.5138\n"
     ]
    }
   ],
   "source": [
    "#Train the model\n",
    "def train_model(model, train_loder, criterion, optimizer, epochs=20):\n",
    "    for epoch in range(epochs):\n",
    "        model.train()\n",
    "        running_loss=0.0\n",
    "        for inputs, labels in train_loader:\n",
    "            labels=labels.unsqueeze(1)#reshape lables to macth outputs dimensions\n",
    "            optimizer.zero_grad()\n",
    "            outputs=model(inputs)\n",
    "            loss = criterion(outputs, labels)\n",
    "            loss.backward()\n",
    "            optimizer.step()\n",
    "            running_loss += loss.item()\n",
    "        print(f\"Epoch [{epoch+1}/{epochs}], Loss: {running_loss/len(train_loader):.4f}\") \n",
    "train_model(model, train_loader, criterion, optimizer, epochs=20)"
   ]
  },
  {
   "cell_type": "code",
   "execution_count": 19,
   "metadata": {},
   "outputs": [
    {
     "name": "stdout",
     "output_type": "stream",
     "text": [
      "Model saved as CODPmodel.pth\n"
     ]
    }
   ],
   "source": [
    "torch.save(model.state_dict(), 'CODPmodel.pth')\n",
    "print(\"Model saved as CODPmodel.pth\")"
   ]
  },
  {
   "cell_type": "code",
   "execution_count": null,
   "metadata": {},
   "outputs": [],
   "source": []
  }
 ],
 "metadata": {
  "kernelspec": {
   "display_name": "Python 3",
   "language": "python",
   "name": "python3"
  },
  "language_info": {
   "codemirror_mode": {
    "name": "ipython",
    "version": 3
   },
   "file_extension": ".py",
   "mimetype": "text/x-python",
   "name": "python",
   "nbconvert_exporter": "python",
   "pygments_lexer": "ipython3",
   "version": "3.12.6"
  }
 },
 "nbformat": 4,
 "nbformat_minor": 2
}
