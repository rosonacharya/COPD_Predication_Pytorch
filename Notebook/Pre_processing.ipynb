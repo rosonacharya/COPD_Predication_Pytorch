{
 "cells": [
  {
   "cell_type": "code",
   "execution_count": 6,
   "metadata": {},
   "outputs": [],
   "source": [
    "#importing libaries \n",
    "import numpy as np\n",
    "import pandas as pd\n"
   ]
  },
  {
   "cell_type": "code",
   "execution_count": 7,
   "metadata": {},
   "outputs": [
    {
     "name": "stdout",
     "output_type": "stream",
     "text": [
      "   Age  Gender Smoking_Status  Biomass_Fuel_Exposure  Occupational_Exposure  \\\n",
      "0   31    Male         Former                      1                      1   \n",
      "1   60    Male          Never                      1                      0   \n",
      "2   33    Male         Former                      0                      0   \n",
      "3   36  Female        Current                      1                      0   \n",
      "4   58    Male          Never                      0                      0   \n",
      "\n",
      "   Family_History_COPD    BMI   Location  Air_Pollution_Level  \\\n",
      "0                    1  27.56   Lalitpur                   84   \n",
      "1                    0  30.30    Pokhara                  131   \n",
      "2                    1  28.45    Pokhara                  123   \n",
      "3                    0  27.49  Kathmandu                  253   \n",
      "4                    0  25.49    Pokhara                  117   \n",
      "\n",
      "   Respiratory_Infections_Childhood  COPD_Diagnosis  \n",
      "0                                 0               0  \n",
      "1                                 1               0  \n",
      "2                                 1               0  \n",
      "3                                 0               1  \n",
      "4                                 1               0  \n"
     ]
    }
   ],
   "source": [
    "#reading csv \n",
    "df=pd.read_csv('../Data/Data_COPD.csv')\n",
    "print(df.head())"
   ]
  },
  {
   "cell_type": "code",
   "execution_count": 8,
   "metadata": {},
   "outputs": [
    {
     "name": "stdout",
     "output_type": "stream",
     "text": [
      "Age                                   int64\n",
      "Gender                               object\n",
      "Smoking_Status                       object\n",
      "Biomass_Fuel_Exposure                 int64\n",
      "Occupational_Exposure                 int64\n",
      "Family_History_COPD                   int64\n",
      "BMI                                 float64\n",
      "Location                             object\n",
      "Air_Pollution_Level                   int64\n",
      "Respiratory_Infections_Childhood      int64\n",
      "COPD_Diagnosis                        int64\n",
      "dtype: object\n"
     ]
    }
   ],
   "source": [
    "print(df.dtypes)\n"
   ]
  },
  {
   "cell_type": "code",
   "execution_count": 9,
   "metadata": {},
   "outputs": [],
   "source": [
    "#econding catorigal data\n",
    "df['Gender_encoded']=df['Gender'].map({'Male':1,'Female':0})\n",
    "df['Smoking_Status_encoded']=df['Smoking_Status'].map({'Current':1,'Former':0.5,'Never':0})\n",
    "#df['Location_ecoded']=df['Location'].map({'Lalitpur' 'Pokhara' 'Kathmandu' 'Butwal' 'Nepalgunj' 'Hetauda' 'Chitwan'\n",
    " #'Bhaktapur' 'Dharan' 'Biratnagar'})"
   ]
  },
  {
   "cell_type": "code",
   "execution_count": 10,
   "metadata": {},
   "outputs": [
    {
     "name": "stdout",
     "output_type": "stream",
     "text": [
      "0      1\n",
      "1      1\n",
      "2      1\n",
      "3      0\n",
      "4      1\n",
      "      ..\n",
      "995    1\n",
      "996    1\n",
      "997    0\n",
      "998    0\n",
      "999    0\n",
      "Name: Gender_encoded, Length: 1000, dtype: int64\n"
     ]
    }
   ],
   "source": [
    "print(df['Gender_encoded'])"
   ]
  },
  {
   "cell_type": "code",
   "execution_count": 11,
   "metadata": {},
   "outputs": [],
   "source": [
    "#ecndoing location\n",
    "from sklearn.preprocessing import LabelEncoder\n",
    "label=LabelEncoder()\n",
    "df['Location_encoded']=label.fit_transform(df['Location'])\n"
   ]
  },
  {
   "cell_type": "code",
   "execution_count": 12,
   "metadata": {},
   "outputs": [
    {
     "name": "stdout",
     "output_type": "stream",
     "text": [
      "   Age  Gender Smoking_Status  Biomass_Fuel_Exposure  Occupational_Exposure  \\\n",
      "0   31    Male         Former                      1                      1   \n",
      "1   60    Male          Never                      1                      0   \n",
      "2   33    Male         Former                      0                      0   \n",
      "3   36  Female        Current                      1                      0   \n",
      "4   58    Male          Never                      0                      0   \n",
      "\n",
      "   Family_History_COPD    BMI   Location  Air_Pollution_Level  \\\n",
      "0                    1  27.56   Lalitpur                   84   \n",
      "1                    0  30.30    Pokhara                  131   \n",
      "2                    1  28.45    Pokhara                  123   \n",
      "3                    0  27.49  Kathmandu                  253   \n",
      "4                    0  25.49    Pokhara                  117   \n",
      "\n",
      "   Respiratory_Infections_Childhood  COPD_Diagnosis  Gender_encoded  \\\n",
      "0                                 0               0               1   \n",
      "1                                 1               0               1   \n",
      "2                                 1               0               1   \n",
      "3                                 0               1               0   \n",
      "4                                 1               0               1   \n",
      "\n",
      "   Smoking_Status_encoded  Location_encoded  \n",
      "0                     0.5                 7  \n",
      "1                     0.0                 9  \n",
      "2                     0.5                 9  \n",
      "3                     1.0                 6  \n",
      "4                     0.0                 9  \n"
     ]
    }
   ],
   "source": [
    "print(df.head())"
   ]
  },
  {
   "cell_type": "code",
   "execution_count": 13,
   "metadata": {},
   "outputs": [
    {
     "name": "stdout",
     "output_type": "stream",
     "text": [
      "Age                                   int64\n",
      "Gender                               object\n",
      "Smoking_Status                       object\n",
      "Biomass_Fuel_Exposure                 int64\n",
      "Occupational_Exposure                 int64\n",
      "Family_History_COPD                   int64\n",
      "BMI                                 float64\n",
      "Location                             object\n",
      "Air_Pollution_Level                   int64\n",
      "Respiratory_Infections_Childhood      int64\n",
      "COPD_Diagnosis                        int64\n",
      "Gender_encoded                        int64\n",
      "Smoking_Status_encoded              float64\n",
      "Location_encoded                      int64\n",
      "dtype: object\n"
     ]
    }
   ],
   "source": [
    "print(df.dtypes)"
   ]
  },
  {
   "cell_type": "code",
   "execution_count": 14,
   "metadata": {},
   "outputs": [],
   "source": [
    "df=df.drop(columns=df.select_dtypes(include=['object','category','bool']).columns)"
   ]
  },
  {
   "cell_type": "code",
   "execution_count": 15,
   "metadata": {},
   "outputs": [
    {
     "name": "stdout",
     "output_type": "stream",
     "text": [
      "Age                                   int64\n",
      "Biomass_Fuel_Exposure                 int64\n",
      "Occupational_Exposure                 int64\n",
      "Family_History_COPD                   int64\n",
      "BMI                                 float64\n",
      "Air_Pollution_Level                   int64\n",
      "Respiratory_Infections_Childhood      int64\n",
      "COPD_Diagnosis                        int64\n",
      "Gender_encoded                        int64\n",
      "Smoking_Status_encoded              float64\n",
      "Location_encoded                      int64\n",
      "dtype: object\n"
     ]
    }
   ],
   "source": [
    "print(df.dtypes)"
   ]
  },
  {
   "cell_type": "code",
   "execution_count": 16,
   "metadata": {},
   "outputs": [
    {
     "name": "stdout",
     "output_type": "stream",
     "text": [
      "   Age  Biomass_Fuel_Exposure  Occupational_Exposure  Family_History_COPD  \\\n",
      "0   31                      1                      1                    1   \n",
      "1   60                      1                      0                    0   \n",
      "2   33                      0                      0                    1   \n",
      "3   36                      1                      0                    0   \n",
      "4   58                      0                      0                    0   \n",
      "\n",
      "     BMI  Air_Pollution_Level  Respiratory_Infections_Childhood  \\\n",
      "0  27.56                   84                                 0   \n",
      "1  30.30                  131                                 1   \n",
      "2  28.45                  123                                 1   \n",
      "3  27.49                  253                                 0   \n",
      "4  25.49                  117                                 1   \n",
      "\n",
      "   COPD_Diagnosis  Gender_encoded  Smoking_Status_encoded  Location_encoded  \n",
      "0               0               1                     0.5                 7  \n",
      "1               0               1                     0.0                 9  \n",
      "2               0               1                     0.5                 9  \n",
      "3               1               0                     1.0                 6  \n",
      "4               0               1                     0.0                 9  \n"
     ]
    }
   ],
   "source": [
    "print(df.head())"
   ]
  },
  {
   "cell_type": "code",
   "execution_count": 17,
   "metadata": {},
   "outputs": [],
   "source": [
    "#saving data before standarization\n",
    "df.to_csv('../Data/Finaldata.csv')"
   ]
  },
  {
   "cell_type": "markdown",
   "metadata": {},
   "source": [
    "## Standarization the data"
   ]
  },
  {
   "cell_type": "code",
   "execution_count": 18,
   "metadata": {},
   "outputs": [
    {
     "name": "stdout",
     "output_type": "stream",
     "text": [
      "   Unnamed: 0  Age  Biomass_Fuel_Exposure  Occupational_Exposure  \\\n",
      "0           0   31                      1                      1   \n",
      "1           1   60                      1                      0   \n",
      "2           2   33                      0                      0   \n",
      "3           3   36                      1                      0   \n",
      "4           4   58                      0                      0   \n",
      "\n",
      "   Family_History_COPD    BMI  Air_Pollution_Level  \\\n",
      "0                    1  27.56                   84   \n",
      "1                    0  30.30                  131   \n",
      "2                    1  28.45                  123   \n",
      "3                    0  27.49                  253   \n",
      "4                    0  25.49                  117   \n",
      "\n",
      "   Respiratory_Infections_Childhood  COPD_Diagnosis  Gender_encoded  \\\n",
      "0                                 0               0               1   \n",
      "1                                 1               0               1   \n",
      "2                                 1               0               1   \n",
      "3                                 0               1               0   \n",
      "4                                 1               0               1   \n",
      "\n",
      "   Smoking_Status_encoded  Location_encoded  \n",
      "0                     0.5                 7  \n",
      "1                     0.0                 9  \n",
      "2                     0.5                 9  \n",
      "3                     1.0                 6  \n",
      "4                     0.0                 9  \n"
     ]
    }
   ],
   "source": [
    "#reading dataset\n",
    "df_new=pd.read_csv('../Data/Finaldata.csv')\n",
    "print(df_new.head())"
   ]
  },
  {
   "cell_type": "code",
   "execution_count": 19,
   "metadata": {},
   "outputs": [
    {
     "name": "stdout",
     "output_type": "stream",
     "text": [
      "Index(['Unnamed: 0', 'Age', 'Biomass_Fuel_Exposure', 'Occupational_Exposure',\n",
      "       'Family_History_COPD', 'BMI', 'Air_Pollution_Level',\n",
      "       'Respiratory_Infections_Childhood', 'COPD_Diagnosis', 'Gender_encoded',\n",
      "       'Smoking_Status_encoded', 'Location_encoded'],\n",
      "      dtype='object')\n"
     ]
    }
   ],
   "source": [
    "data_cols=df_new.select_dtypes(include=['int64','float64']).columns\n",
    "print(data_cols)"
   ]
  },
  {
   "cell_type": "code",
   "execution_count": 20,
   "metadata": {},
   "outputs": [
    {
     "name": "stdout",
     "output_type": "stream",
     "text": [
      "   Unnamed: 0       Age  Biomass_Fuel_Exposure  Occupational_Exposure  \\\n",
      "0   -1.730320 -1.602656               1.012073               0.966559   \n",
      "1   -1.726856  0.331228               1.012073              -1.034598   \n",
      "2   -1.723391 -1.469285              -0.988071              -1.034598   \n",
      "3   -1.719927 -1.269228               1.012073              -1.034598   \n",
      "4   -1.716463  0.197856              -0.988071              -1.034598   \n",
      "\n",
      "   Family_History_COPD       BMI  Air_Pollution_Level  \\\n",
      "0             0.992032  0.182927            -0.784912   \n",
      "1            -1.008032  0.754353            -0.077974   \n",
      "2             0.992032  0.368536            -0.198304   \n",
      "3            -1.008032  0.168329             1.757056   \n",
      "4            -1.008032 -0.248770            -0.288551   \n",
      "\n",
      "   Respiratory_Infections_Childhood  COPD_Diagnosis  Gender_encoded  \\\n",
      "0                         -0.972381       -0.681270        0.972381   \n",
      "1                          1.028403       -0.681270        0.972381   \n",
      "2                          1.028403       -0.681270        0.972381   \n",
      "3                         -0.972381        1.467847       -1.028403   \n",
      "4                          1.028403       -0.681270        0.972381   \n",
      "\n",
      "   Smoking_Status_encoded  Location_encoded  \n",
      "0               -0.040021          0.864366  \n",
      "1               -1.252778          1.552556  \n",
      "2               -0.040021          1.552556  \n",
      "3                1.172736          0.520271  \n",
      "4               -1.252778          1.552556  \n"
     ]
    }
   ],
   "source": [
    "from sklearn.preprocessing import StandardScaler\n",
    "scaler = StandardScaler()\n",
    "# Apply standardization\n",
    "df_new[data_cols]=scaler.fit_transform(df_new[data_cols])\n",
    "print(df_new.head())\n"
   ]
  },
  {
   "cell_type": "code",
   "execution_count": 21,
   "metadata": {},
   "outputs": [],
   "source": [
    "#saving to csv\n",
    "df_new.to_csv('../Data/StandardData.csv')"
   ]
  },
  {
   "cell_type": "code",
   "execution_count": 22,
   "metadata": {},
   "outputs": [
    {
     "name": "stdout",
     "output_type": "stream",
     "text": [
      "Feature batch shape: torch.Size([32, 10])\n",
      "Target batch shape: torch.Size([32])\n"
     ]
    }
   ],
   "source": [
    "import torch\n",
    "from sklearn.model_selection import train_test_split\n",
    "from torch.utils.data import TensorDataset, DataLoader\n",
    "\n",
    "# Assuming the target column is 'COPD_Diagnosis' and others are features\n",
    "X = df.drop(columns=['COPD_Diagnosis'])  # Features\n",
    "y = df['COPD_Diagnosis']  # Target\n",
    "\n",
    "# Split the data into training, validation, and test sets (80% train, 10% val, 10% test)\n",
    "X_train, X_temp, y_train, y_temp = train_test_split(X, y, test_size=0.2, random_state=42)\n",
    "X_val, X_test, y_val, y_test = train_test_split(X_temp, y_temp, test_size=0.5, random_state=42)\n",
    "\n",
    "# Convert data to PyTorch tensors\n",
    "X_train_tensor = torch.tensor(X_train.values, dtype=torch.float32)\n",
    "y_train_tensor = torch.tensor(y_train.values, dtype=torch.long)\n",
    "\n",
    "X_val_tensor = torch.tensor(X_val.values, dtype=torch.float32)\n",
    "y_val_tensor = torch.tensor(y_val.values, dtype=torch.long)\n",
    "\n",
    "X_test_tensor = torch.tensor(X_test.values, dtype=torch.float32)\n",
    "y_test_tensor = torch.tensor(y_test.values, dtype=torch.long)\n",
    "\n",
    "# Optionally, create TensorDatasets and DataLoaders\n",
    "train_dataset = TensorDataset(X_train_tensor, y_train_tensor)\n",
    "val_dataset = TensorDataset(X_val_tensor, y_val_tensor)\n",
    "test_dataset = TensorDataset(X_test_tensor, y_test_tensor)\n",
    "\n",
    "# DataLoader helps manage batching\n",
    "train_loader = DataLoader(train_dataset, batch_size=32, shuffle=True)\n",
    "val_loader = DataLoader(val_dataset, batch_size=32, shuffle=False)\n",
    "test_loader = DataLoader(test_dataset, batch_size=32, shuffle=False)\n",
    "\n",
    "# Checking the first batch of the train_loader\n",
    "for X_batch, y_batch in train_loader:\n",
    "    print(\"Feature batch shape:\", X_batch.shape)\n",
    "    print(\"Target batch shape:\", y_batch.shape)\n",
    "    break\n"
   ]
  },
  {
   "cell_type": "code",
   "execution_count": null,
   "metadata": {},
   "outputs": [],
   "source": []
  }
 ],
 "metadata": {
  "kernelspec": {
   "display_name": "Python 3",
   "language": "python",
   "name": "python3"
  },
  "language_info": {
   "codemirror_mode": {
    "name": "ipython",
    "version": 3
   },
   "file_extension": ".py",
   "mimetype": "text/x-python",
   "name": "python",
   "nbconvert_exporter": "python",
   "pygments_lexer": "ipython3",
   "version": "3.12.6"
  }
 },
 "nbformat": 4,
 "nbformat_minor": 2
}
