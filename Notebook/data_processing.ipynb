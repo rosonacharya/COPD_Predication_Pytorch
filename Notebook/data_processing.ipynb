{
 "cells": [
  {
   "cell_type": "code",
   "execution_count": 2,
   "metadata": {},
   "outputs": [],
   "source": [
    "#importing necessary libaries \n",
    "import pandas as pd\n",
    "import numpy as np\n",
    "import matplotlib.pyplot as plt\n"
   ]
  },
  {
   "cell_type": "code",
   "execution_count": 3,
   "metadata": {},
   "outputs": [
    {
     "name": "stdout",
     "output_type": "stream",
     "text": [
      "     Age  Gender Smoking_Status  Biomass_Fuel_Exposure  Occupational_Exposure  \\\n",
      "0     31    Male         Former                      1                      1   \n",
      "1     60    Male          Never                      1                      0   \n",
      "2     33    Male         Former                      0                      0   \n",
      "3     36  Female        Current                      1                      0   \n",
      "4     58    Male          Never                      0                      0   \n",
      "..   ...     ...            ...                    ...                    ...   \n",
      "995   62    Male        Current                      1                      1   \n",
      "996   52    Male          Never                      0                      1   \n",
      "997   40  Female        Current                      0                      0   \n",
      "998   76  Female         Former                      0                      1   \n",
      "999   44  Female         Former                      0                      0   \n",
      "\n",
      "     Family_History_COPD    BMI   Location  Air_Pollution_Level  \\\n",
      "0                      1  27.56   Lalitpur                   84   \n",
      "1                      0  30.30    Pokhara                  131   \n",
      "2                      1  28.45    Pokhara                  123   \n",
      "3                      0  27.49  Kathmandu                  253   \n",
      "4                      0  25.49    Pokhara                  117   \n",
      "..                   ...    ...        ...                  ...   \n",
      "995                    1  20.11  Bhaktapur                  127   \n",
      "996                    0  27.00  Bhaktapur                  118   \n",
      "997                    1  33.98     Butwal                  134   \n",
      "998                    1  22.27  Kathmandu                  281   \n",
      "999                    0  29.67  Kathmandu                  170   \n",
      "\n",
      "     Respiratory_Infections_Childhood  COPD_Diagnosis  \n",
      "0                                   0               0  \n",
      "1                                   1               0  \n",
      "2                                   1               0  \n",
      "3                                   0               1  \n",
      "4                                   1               0  \n",
      "..                                ...             ...  \n",
      "995                                 0               1  \n",
      "996                                 0               0  \n",
      "997                                 1               1  \n",
      "998                                 0               0  \n",
      "999                                 0               0  \n",
      "\n",
      "[1000 rows x 11 columns]\n"
     ]
    }
   ],
   "source": [
    "#reading csv file\n",
    "df=pd.read_csv('../Data/Data_COPD.csv')\n",
    "print(df)"
   ]
  },
  {
   "cell_type": "code",
   "execution_count": 4,
   "metadata": {},
   "outputs": [
    {
     "name": "stdout",
     "output_type": "stream",
     "text": [
      "               Age  Biomass_Fuel_Exposure  Occupational_Exposure  \\\n",
      "count  1000.000000            1000.000000            1000.000000   \n",
      "mean     55.033000               0.494000               0.517000   \n",
      "std      15.003233               0.500214               0.499961   \n",
      "min      30.000000               0.000000               0.000000   \n",
      "25%      42.000000               0.000000               0.000000   \n",
      "50%      55.000000               0.000000               1.000000   \n",
      "75%      68.250000               1.000000               1.000000   \n",
      "max      80.000000               1.000000               1.000000   \n",
      "\n",
      "       Family_History_COPD          BMI  Air_Pollution_Level  \\\n",
      "count          1000.000000  1000.000000          1000.000000   \n",
      "mean              0.504000    26.682860           136.184000   \n",
      "std               0.500234     4.797422            66.517191   \n",
      "min               0.000000    18.510000            50.000000   \n",
      "25%               0.000000    22.587500            84.000000   \n",
      "50%               1.000000    26.440000           121.000000   \n",
      "75%               1.000000    30.662500           171.250000   \n",
      "max               1.000000    35.000000           300.000000   \n",
      "\n",
      "       Respiratory_Infections_Childhood  COPD_Diagnosis  \n",
      "count                       1000.000000      1000.00000  \n",
      "mean                           0.486000         0.31700  \n",
      "std                            0.500054         0.46554  \n",
      "min                            0.000000         0.00000  \n",
      "25%                            0.000000         0.00000  \n",
      "50%                            0.000000         0.00000  \n",
      "75%                            1.000000         1.00000  \n",
      "max                            1.000000         1.00000  \n"
     ]
    }
   ],
   "source": [
    "print(df.describe())"
   ]
  },
  {
   "cell_type": "code",
   "execution_count": 5,
   "metadata": {},
   "outputs": [
    {
     "name": "stdout",
     "output_type": "stream",
     "text": [
      "<class 'pandas.core.frame.DataFrame'>\n",
      "RangeIndex: 1000 entries, 0 to 999\n",
      "Data columns (total 11 columns):\n",
      " #   Column                            Non-Null Count  Dtype  \n",
      "---  ------                            --------------  -----  \n",
      " 0   Age                               1000 non-null   int64  \n",
      " 1   Gender                            1000 non-null   object \n",
      " 2   Smoking_Status                    1000 non-null   object \n",
      " 3   Biomass_Fuel_Exposure             1000 non-null   int64  \n",
      " 4   Occupational_Exposure             1000 non-null   int64  \n",
      " 5   Family_History_COPD               1000 non-null   int64  \n",
      " 6   BMI                               1000 non-null   float64\n",
      " 7   Location                          1000 non-null   object \n",
      " 8   Air_Pollution_Level               1000 non-null   int64  \n",
      " 9   Respiratory_Infections_Childhood  1000 non-null   int64  \n",
      " 10  COPD_Diagnosis                    1000 non-null   int64  \n",
      "dtypes: float64(1), int64(7), object(3)\n",
      "memory usage: 86.1+ KB\n",
      "None\n"
     ]
    }
   ],
   "source": [
    "print(df.info())"
   ]
  },
  {
   "cell_type": "code",
   "execution_count": 6,
   "metadata": {},
   "outputs": [
    {
     "name": "stdout",
     "output_type": "stream",
     "text": [
      "Age                                 0\n",
      "Gender                              0\n",
      "Smoking_Status                      0\n",
      "Biomass_Fuel_Exposure               0\n",
      "Occupational_Exposure               0\n",
      "Family_History_COPD                 0\n",
      "BMI                                 0\n",
      "Location                            0\n",
      "Air_Pollution_Level                 0\n",
      "Respiratory_Infections_Childhood    0\n",
      "COPD_Diagnosis                      0\n",
      "dtype: int64\n"
     ]
    }
   ],
   "source": [
    "#checking null value\n",
    "print(df.isnull().sum())"
   ]
  },
  {
   "cell_type": "code",
   "execution_count": 7,
   "metadata": {},
   "outputs": [
    {
     "name": "stdout",
     "output_type": "stream",
     "text": [
      "Index(['Age', 'Gender', 'Smoking_Status', 'Biomass_Fuel_Exposure',\n",
      "       'Occupational_Exposure', 'Family_History_COPD', 'BMI', 'Location',\n",
      "       'Air_Pollution_Level', 'Respiratory_Infections_Childhood',\n",
      "       'COPD_Diagnosis'],\n",
      "      dtype='object')\n"
     ]
    }
   ],
   "source": [
    "#print colums\n",
    "print(df.columns)"
   ]
  },
  {
   "cell_type": "code",
   "execution_count": 8,
   "metadata": {},
   "outputs": [
    {
     "name": "stdout",
     "output_type": "stream",
     "text": [
      "Index(['Age', 'Biomass_Fuel_Exposure', 'Occupational_Exposure',\n",
      "       'Family_History_COPD', 'BMI', 'Air_Pollution_Level',\n",
      "       'Respiratory_Infections_Childhood', 'COPD_Diagnosis'],\n",
      "      dtype='object')\n"
     ]
    }
   ],
   "source": [
    "#numerical data \n",
    "num_cols=df.select_dtypes(include=['float64','int64']).columns\n",
    "print(num_cols)\n"
   ]
  },
  {
   "cell_type": "code",
   "execution_count": 9,
   "metadata": {},
   "outputs": [
    {
     "name": "stdout",
     "output_type": "stream",
     "text": [
      "Index(['Gender', 'Smoking_Status', 'Location'], dtype='object')\n"
     ]
    }
   ],
   "source": [
    "#catorgical set\n",
    "cat_cols=df.select_dtypes(include=['bool','object']).columns\n",
    "print(cat_cols)"
   ]
  }
 ],
 "metadata": {
  "kernelspec": {
   "display_name": "Python 3",
   "language": "python",
   "name": "python3"
  },
  "language_info": {
   "codemirror_mode": {
    "name": "ipython",
    "version": 3
   },
   "file_extension": ".py",
   "mimetype": "text/x-python",
   "name": "python",
   "nbconvert_exporter": "python",
   "pygments_lexer": "ipython3",
   "version": "3.12.6"
  }
 },
 "nbformat": 4,
 "nbformat_minor": 2
}
